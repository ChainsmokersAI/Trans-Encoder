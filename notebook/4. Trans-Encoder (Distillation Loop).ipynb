{
 "cells": [
  {
   "cell_type": "code",
   "execution_count": 1,
   "id": "94571daf",
   "metadata": {},
   "outputs": [],
   "source": [
    "import sys\n",
    "\n",
    "module_path=\"..\"\n",
    "sys.path.append(module_path)\n",
    "\n",
    "from distillation import distill"
   ]
  },
  {
   "cell_type": "code",
   "execution_count": 2,
   "id": "3cc66933",
   "metadata": {},
   "outputs": [],
   "source": [
    "import warnings\n",
    "\n",
    "warnings.filterwarnings(\"ignore\")\n",
    "\n",
    "import transformers\n",
    "from transformers.utils import logging\n",
    "\n",
    "logging.set_verbosity(transformers.logging.ERROR)"
   ]
  },
  {
   "cell_type": "code",
   "execution_count": 3,
   "id": "dfc75858",
   "metadata": {},
   "outputs": [
    {
     "name": "stdout",
     "output_type": "stream",
     "text": [
      "0th Bi-Encoder\n",
      "-----\n",
      "[[1.         0.81180199]\n",
      " [0.81180199 1.        ]]\n",
      "SpearmanrResult(correlation=0.8009763763165447, pvalue=4.38233081262766e-309)\n",
      "=====\n",
      "0th Cross-Encoder\n",
      "-----\n",
      "[[ 1.         -0.00811583]\n",
      " [-0.00811583  1.        ]]\n",
      "SpearmanrResult(correlation=-0.010719595423067774, pvalue=0.6908355375534487)\n",
      "\n",
      "Pseudo-Labeling..\n",
      "Done!\n",
      "\n",
      "Training..\n",
      "5749 data proceesed\n",
      "Done!\n",
      "\n",
      "1th (Newly Distilled) Cross-Encoder\n",
      "-----\n",
      "[[1.         0.81805196]\n",
      " [0.81805196 1.        ]]\n",
      "SpearmanrResult(correlation=0.82710091204058, pvalue=0.0)\n"
     ]
    }
   ],
   "source": [
    "# Loop 1: Bi-to-Cross Encoder Distillation\n",
    "distill(\n",
    "    direction=\"bi2cross\",\n",
    "    n_loop=1,\n",
    "    device_name=\"cuda:3\",\n",
    "    # Hyperparams for Training Model (Distillation)\n",
    "    hyperparams={\n",
    "        \"batch_size\": 16,\n",
    "        \"accum_steps\": 1,\n",
    "        \"lr\": 5e-5,\n",
    "        \"epochs\": 5,\n",
    "        # Training Loss: BCE or MSE\n",
    "        \"loss_func\": \"BCE\"\n",
    "    }\n",
    ")"
   ]
  },
  {
   "cell_type": "code",
   "execution_count": 4,
   "id": "9ed55f66",
   "metadata": {},
   "outputs": [
    {
     "name": "stdout",
     "output_type": "stream",
     "text": [
      "0th Bi-Encoder\n",
      "-----\n",
      "[[1.         0.81180199]\n",
      " [0.81180199 1.        ]]\n",
      "SpearmanrResult(correlation=0.8009763763165447, pvalue=4.38233081262766e-309)\n",
      "=====\n",
      "1th Cross-Encoder\n",
      "-----\n",
      "[[1.         0.81805196]\n",
      " [0.81805196 1.        ]]\n",
      "SpearmanrResult(correlation=0.82710091204058, pvalue=0.0)\n",
      "\n",
      "Pseudo-Labeling..\n",
      "Done!\n",
      "\n",
      "Training..\n",
      "5749 data processed\n",
      "Done!\n",
      "\n",
      "1th (Newly Distilled) Bi-Encoder\n",
      "-----\n",
      "[[1.         0.81439591]\n",
      " [0.81439591 1.        ]]\n",
      "SpearmanrResult(correlation=0.8084451029007024, pvalue=2.74285e-319)\n"
     ]
    }
   ],
   "source": [
    "# Loop 1: Cross-to-Bi Encoder Distillation\n",
    "distill(\n",
    "    direction=\"cross2bi\",\n",
    "    n_loop=1,\n",
    "    # Trained (Distilled) Cross-Encoder\n",
    "    path_cross_model=\"../model/cross-encoder_distilled_loop1_epoch5of5.pth\",\n",
    "    device_name=\"cuda:3\",\n",
    "    # Hyperparams for Training Model (Distillation)\n",
    "    hyperparams={\n",
    "        \"batch_size\": 16,\n",
    "        \"accum_steps\": 1,\n",
    "        \"lr\": 1e-7,\n",
    "        \"epochs\": 5,\n",
    "        # Training Loss: BCE or MSE\n",
    "        \"loss_func\": \"MSE\"\n",
    "    }\n",
    ")"
   ]
  },
  {
   "cell_type": "code",
   "execution_count": null,
   "id": "3741a307",
   "metadata": {},
   "outputs": [],
   "source": []
  }
 ],
 "metadata": {
  "kernelspec": {
   "display_name": "Python 3 (ipykernel)",
   "language": "python",
   "name": "python3"
  },
  "language_info": {
   "codemirror_mode": {
    "name": "ipython",
    "version": 3
   },
   "file_extension": ".py",
   "mimetype": "text/x-python",
   "name": "python",
   "nbconvert_exporter": "python",
   "pygments_lexer": "ipython3",
   "version": "3.8.12"
  }
 },
 "nbformat": 4,
 "nbformat_minor": 5
}
