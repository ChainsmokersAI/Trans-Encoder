{
 "cells": [
  {
   "cell_type": "markdown",
   "id": "7bbd5006",
   "metadata": {},
   "source": [
    "### Create Pseudo-Labels using Cross-Encoder"
   ]
  },
  {
   "cell_type": "code",
   "execution_count": 1,
   "id": "fb623b02",
   "metadata": {},
   "outputs": [],
   "source": [
    "import torch\n",
    "import torch.nn as nn\n",
    "from transformers import AutoTokenizer, AutoModel\n",
    "\n",
    "import pandas as pd\n",
    "import matplotlib.pyplot as plt"
   ]
  },
  {
   "cell_type": "code",
   "execution_count": 2,
   "id": "33ea91ce",
   "metadata": {},
   "outputs": [],
   "source": [
    "class CrossEncoder(nn.Module):\n",
    "    def __init__(self, pretrained):\n",
    "        super().__init__()\n",
    "        \n",
    "        # Pre-Trained LM\n",
    "        self.pretrained=pretrained\n",
    "        # Pooling Layer: MLP\n",
    "        self.pooler=nn.Linear(pretrained.config.hidden_size, 1)\n",
    "        \n",
    "    def forward(self, x):\n",
    "        x=self.pretrained(x)\n",
    "        cls=x.last_hidden_state[:,0,:]\n",
    "        return self.pooler(cls)"
   ]
  },
  {
   "cell_type": "code",
   "execution_count": 3,
   "id": "32399800",
   "metadata": {},
   "outputs": [
    {
     "name": "stdout",
     "output_type": "stream",
     "text": [
      "Loaded!\n"
     ]
    }
   ],
   "source": [
    "# Device: GPU\n",
    "device=torch.device(\"cuda:0\")\n",
    "\n",
    "# Checkpoint: Distilled Cross-Encoder\n",
    "tokenizer_cross=AutoTokenizer.from_pretrained(\"roberta-base\")\n",
    "cross_enc=torch.load(\"../model/Cross-Encoder-Distilled_batch16_lr5e-05_epoch4of5\").to(device)\n",
    "cross_enc.eval()\n",
    "print(\"Loaded!\")"
   ]
  },
  {
   "cell_type": "markdown",
   "id": "d28535fe",
   "metadata": {},
   "source": [
    "### How to Make Sentence Pairs\n",
    "### a. Same Pairs in Train Set"
   ]
  },
  {
   "cell_type": "code",
   "execution_count": 4,
   "id": "03387020",
   "metadata": {},
   "outputs": [],
   "source": [
    "def pseudo_label(dataset_path, tokenizer, model):\n",
    "    \"\"\"\n",
    "    Same Pairs in Train Set\n",
    "    \"\"\"\n",
    "    # Read Dataset\n",
    "    if \"bi2cross\" in dataset_path:\n",
    "        df=pd.read_csv(dataset_path)\n",
    "        \n",
    "    # Pseudo-Labeling\n",
    "    pseudo_labels=[]\n",
    "    for idx in df.index:\n",
    "        # Encode Sentence\n",
    "        enc0=tokenizer.encode(df.loc[idx][\"sent0\"])\n",
    "        enc1=tokenizer.encode(df.loc[idx][\"sent1\"])\n",
    "        \n",
    "        # Forward\n",
    "        _input=torch.tensor([enc0[:-1]+[tokenizer.sep_token_id]+enc1[1:]])\n",
    "        pred=model(_input.to(device))\n",
    "        \n",
    "        pseudo_labels.append(pred[0].item())\n",
    "        \n",
    "    # Update Column\n",
    "    df[\"pseudo_label\"]=pseudo_labels\n",
    "    \n",
    "    return df"
   ]
  },
  {
   "cell_type": "code",
   "execution_count": 5,
   "id": "60ab82a2",
   "metadata": {},
   "outputs": [
    {
     "data": {
      "text/html": [
       "<div>\n",
       "<style scoped>\n",
       "    .dataframe tbody tr th:only-of-type {\n",
       "        vertical-align: middle;\n",
       "    }\n",
       "\n",
       "    .dataframe tbody tr th {\n",
       "        vertical-align: top;\n",
       "    }\n",
       "\n",
       "    .dataframe thead th {\n",
       "        text-align: right;\n",
       "    }\n",
       "</style>\n",
       "<table border=\"1\" class=\"dataframe\">\n",
       "  <thead>\n",
       "    <tr style=\"text-align: right;\">\n",
       "      <th></th>\n",
       "      <th>sent0</th>\n",
       "      <th>sent1</th>\n",
       "      <th>pseudo_label</th>\n",
       "    </tr>\n",
       "  </thead>\n",
       "  <tbody>\n",
       "    <tr>\n",
       "      <th>0</th>\n",
       "      <td>A plane is taking off.</td>\n",
       "      <td>An air plane is taking off.</td>\n",
       "      <td>3.024760</td>\n",
       "    </tr>\n",
       "    <tr>\n",
       "      <th>1</th>\n",
       "      <td>A man is playing a large flute.</td>\n",
       "      <td>A man is playing a flute.</td>\n",
       "      <td>3.677473</td>\n",
       "    </tr>\n",
       "    <tr>\n",
       "      <th>2</th>\n",
       "      <td>A man is spreading shreded cheese on a pizza.</td>\n",
       "      <td>A man is spreading shredded cheese on an uncoo...</td>\n",
       "      <td>2.815390</td>\n",
       "    </tr>\n",
       "    <tr>\n",
       "      <th>3</th>\n",
       "      <td>Three men are playing chess.</td>\n",
       "      <td>Two men are playing chess.</td>\n",
       "      <td>2.189032</td>\n",
       "    </tr>\n",
       "    <tr>\n",
       "      <th>4</th>\n",
       "      <td>A man is playing the cello.</td>\n",
       "      <td>A man seated is playing the cello.</td>\n",
       "      <td>2.909889</td>\n",
       "    </tr>\n",
       "  </tbody>\n",
       "</table>\n",
       "</div>"
      ],
      "text/plain": [
       "                                           sent0  \\\n",
       "0                         A plane is taking off.   \n",
       "1                A man is playing a large flute.   \n",
       "2  A man is spreading shreded cheese on a pizza.   \n",
       "3                   Three men are playing chess.   \n",
       "4                    A man is playing the cello.   \n",
       "\n",
       "                                               sent1  pseudo_label  \n",
       "0                        An air plane is taking off.      3.024760  \n",
       "1                          A man is playing a flute.      3.677473  \n",
       "2  A man is spreading shredded cheese on an uncoo...      2.815390  \n",
       "3                         Two men are playing chess.      2.189032  \n",
       "4                 A man seated is playing the cello.      2.909889  "
      ]
     },
     "execution_count": 5,
     "metadata": {},
     "output_type": "execute_result"
    }
   ],
   "source": [
    "df=pseudo_label(\n",
    "    dataset_path=\"../dataset/bi2cross-sts-train.csv\",\n",
    "    tokenizer=tokenizer_cross,\n",
    "    model=cross_enc\n",
    ")\n",
    "df.head(5)"
   ]
  },
  {
   "cell_type": "code",
   "execution_count": 6,
   "id": "0d4e0f66",
   "metadata": {},
   "outputs": [
    {
     "data": {
      "image/png": "[encoded data removed]",
      "text/plain": [
       "<Figure size 432x288 with 1 Axes>"
      ]
     },
     "metadata": {
      "needs_background": "light"
     },
     "output_type": "display_data"
    }
   ],
   "source": [
    "plt.hist(df[\"pseudo_label\"], bins=10, range=(0,1))\n",
    "plt.title(\"Distribution of Pseudo-Labels\")\n",
    "plt.show()"
   ]
  },
  {
   "cell_type": "code",
   "execution_count": 7,
   "id": "1f6799ca",
   "metadata": {},
   "outputs": [],
   "source": [
    "# Save Dataset\n",
    "df.to_csv(\"../dataset/cross2bi-sts-train.csv\", index=False)"
   ]
  },
  {
   "cell_type": "code",
   "execution_count": null,
   "id": "c4517b4a",
   "metadata": {},
   "outputs": [],
   "source": []
  },
  {
   "cell_type": "markdown",
   "id": "1bf9b3c3",
   "metadata": {},
   "source": [
    "### Train Bi-Encoder with Pseudo-Labels & Evaluate"
   ]
  },
  {
   "cell_type": "code",
   "execution_count": 1,
   "id": "3d466d77",
   "metadata": {},
   "outputs": [],
   "source": [
    "import pandas as pd\n",
    "\n",
    "import torch\n",
    "from torch.utils.data import Dataset, DataLoader\n",
    "import torch.nn as nn\n",
    "import torch.cuda.amp as amp\n",
    "from torch.utils.tensorboard import SummaryWriter\n",
    "\n",
    "from transformers import AutoTokenizer, AutoModel, AdamW, get_linear_schedule_with_warmup\n",
    "\n",
    "import numpy as np\n",
    "from scipy import stats"
   ]
  },
  {
   "cell_type": "code",
   "execution_count": 2,
   "id": "e04ef4ed",
   "metadata": {},
   "outputs": [],
   "source": [
    "# Device: GPU\n",
    "device=torch.device(\"cuda:0\")\n",
    "\n",
    "# Hyperparams\n",
    "max_sent_len=512\n",
    "batch_size=16\n",
    "accum_steps=1\n",
    "lr=1e-7\n",
    "epochs=5"
   ]
  },
  {
   "cell_type": "code",
   "execution_count": 3,
   "id": "1b523cb4",
   "metadata": {},
   "outputs": [],
   "source": [
    "class PseudoLabelDataset(Dataset):\n",
    "    def __init__(self, path, tokenizer):\n",
    "        # Data: Sentence Pair\n",
    "        self.sent0=[]\n",
    "        self.sent1=[]\n",
    "        # Label\n",
    "        self.label=[]\n",
    "        \n",
    "        # Read Dataset\n",
    "        df=pd.read_csv(path)\n",
    "        \n",
    "        for idx in df.index:\n",
    "            row=df.loc[idx]\n",
    "            \n",
    "            # Encode Sentence\n",
    "            enc0=tokenizer.encode(row[\"sent0\"], truncation=True, max_length=max_sent_len)\n",
    "            enc1=tokenizer.encode(row[\"sent1\"], truncation=True, max_length=max_sent_len)\n",
    "            \n",
    "            # Append Data\n",
    "            self.sent0.append(enc0)\n",
    "            self.sent1.append(enc1)\n",
    "            # Append Label\n",
    "            self.label.append(float(row[\"pseudo_label\"]))\n",
    "            \n",
    "        print(len(self.sent0), \"data\")\n",
    "            \n",
    "    def __getitem__(self, idx):\n",
    "        return self.sent0[idx], self.sent1[idx], self.label[idx]\n",
    "    \n",
    "    def __len__(self):\n",
    "        return len(self.sent0)"
   ]
  },
  {
   "cell_type": "code",
   "execution_count": 4,
   "id": "00e6c1f0",
   "metadata": {},
   "outputs": [],
   "source": [
    "def get_collate_fn(tokenizer):\n",
    "    def collate_fn(batch):\n",
    "        # Max Sentence Length\n",
    "        max_seq_len0=0\n",
    "        max_seq_len1=0\n",
    "        for sent0, sent1, _ in batch:\n",
    "            if len(sent0)>max_seq_len0: max_seq_len0=len(sent0)\n",
    "            if len(sent1)>max_seq_len1: max_seq_len1=len(sent1)\n",
    "\n",
    "        # Data: Sentence Pair\n",
    "        batch_sent0=[]\n",
    "        batch_sent1=[]\n",
    "        # Label\n",
    "        batch_label=[]\n",
    "        for sent0, sent1, label in batch:\n",
    "            sent0.extend([tokenizer.pad_token_id]*(max_seq_len0-len(sent0)))\n",
    "            batch_sent0.append(sent0)\n",
    "            \n",
    "            sent1.extend([tokenizer.pad_token_id]*(max_seq_len1-len(sent1)))\n",
    "            batch_sent1.append(sent1)\n",
    "\n",
    "            batch_label.append(label)\n",
    "\n",
    "        return torch.tensor(batch_sent0), torch.tensor(batch_sent1), torch.tensor(batch_label)\n",
    "    \n",
    "    return collate_fn"
   ]
  },
  {
   "cell_type": "code",
   "execution_count": 5,
   "id": "653fa8a0",
   "metadata": {},
   "outputs": [],
   "source": [
    "class BiEncoder(nn.Module):\n",
    "    def __init__(self, pretrained):\n",
    "        super().__init__()\n",
    "        \n",
    "        # Pre-Trained LM\n",
    "        self.pretrained=pretrained\n",
    "        # Cosine Similarity\n",
    "        self.cos_sim=nn.CosineSimilarity()\n",
    "        \n",
    "    def forward(self, x1, x2):\n",
    "        x1=self.pretrained(x1)\n",
    "        hidden1=x1.last_hidden_state\n",
    "        \n",
    "        x2=self.pretrained(x2)\n",
    "        hidden2=x2.last_hidden_state\n",
    "        \n",
    "        cos_sims=self.cos_sim(hidden1[:,0,:], hidden2[:,0,:]).unsqueeze(-1)\n",
    "        return cos_sims"
   ]
  },
  {
   "cell_type": "code",
   "execution_count": 6,
   "id": "d75d9ee8",
   "metadata": {},
   "outputs": [],
   "source": [
    "def train_bi_encoder_with_pseudo_labels(pseudo_label_path, loss_func):\n",
    "    \"\"\"\n",
    "    Cross-Encoder -> Bi-Encoder Distillation\n",
    "    \"\"\"\n",
    "    # Pre-Trained Tokenizer\n",
    "    tokenizer=AutoTokenizer.from_pretrained(\"princeton-nlp/unsup-simcse-roberta-base\")\n",
    "    # Pseudo-Labeled Dataset\n",
    "    dataset_train=PseudoLabelDataset(path=pseudo_label_path, tokenizer=tokenizer)\n",
    "    dataloader_train=DataLoader(\n",
    "        dataset_train,\n",
    "        batch_size=batch_size,\n",
    "        shuffle=True,\n",
    "        collate_fn=get_collate_fn(tokenizer=tokenizer)\n",
    "    )\n",
    "    \n",
    "    # Pre-Trained LM\n",
    "    pretrained=AutoModel.from_pretrained(\"princeton-nlp/unsup-simcse-roberta-base\").to(device)\n",
    "    # Model: Bi-Encoder\n",
    "    model=BiEncoder(pretrained=pretrained).to(device)\n",
    "    model.train()\n",
    "    \n",
    "    # Loss: MSE\n",
    "    if loss_func==\"MSE\":\n",
    "        train_loss=nn.MSELoss()\n",
    "    # Loss: BCE\n",
    "    elif loss_func==\"BCE\":\n",
    "        train_loss=nn.BCEWithLogitsLoss()\n",
    "        \n",
    "    # Optimizer, Scheduler\n",
    "    optimizer=AdamW(model.parameters(), lr=lr)\n",
    "    scheduler=get_linear_schedule_with_warmup(\n",
    "        optimizer=optimizer,\n",
    "        # 5% of Total Step\n",
    "        num_warmup_steps=int(0.05*epochs*len(dataset_train)/(accum_steps*batch_size)),\n",
    "        num_training_steps=int(epochs*len(dataset_train)/(accum_steps*batch_size))\n",
    "    )\n",
    "\n",
    "    # Mixed Precision: GradScaler\n",
    "    scaler=amp.GradScaler()\n",
    "\n",
    "    # Tensorboard\n",
    "    writer=SummaryWriter()\n",
    "\n",
    "    step_global=0\n",
    "    for epoch in range(epochs):\n",
    "        _loss=0\n",
    "        optimizer.zero_grad()\n",
    "\n",
    "        for step, (sent0, sent1, label) in enumerate(dataloader_train):\n",
    "            # Load Data, Label\n",
    "            sent0=sent0.to(device)\n",
    "            sent1=sent1.to(device)\n",
    "            label=label.to(device)\n",
    "\n",
    "            # Forward\n",
    "            with amp.autocast():\n",
    "                pred=model(sent0, sent1)\n",
    "                loss=train_loss(pred, label.unsqueeze(-1))/accum_steps\n",
    "            # Backward\n",
    "            scaler.scale(loss).backward()\n",
    "            _loss+=loss.item()\n",
    "\n",
    "            # Step\n",
    "            if (step+1)%accum_steps==0:\n",
    "                step_global+=1\n",
    "\n",
    "                # Tensorboard\n",
    "                writer.add_scalar(\n",
    "                    f'loss_train/Bi-Encoder-Distilled_batch{int(accum_steps*batch_size)}_lr{lr}_epochs{epochs}',\n",
    "                    _loss,\n",
    "                    step_global\n",
    "                )\n",
    "                _loss=0\n",
    "\n",
    "                # Optimizer, Scheduler\n",
    "                scaler.step(optimizer)\n",
    "                scaler.update()\n",
    "                scheduler.step()\n",
    "                optimizer.zero_grad()\n",
    "\n",
    "        # Save Model\n",
    "        model.to(torch.device(\"cpu\"))\n",
    "        torch.save(\n",
    "            model,\n",
    "            f'../model/Bi-Encoder-Distilled_batch{int(accum_steps*batch_size)}_lr{lr}_epoch{epoch+1}of{epochs}'\n",
    "        )\n",
    "        model.to(device)"
   ]
  },
  {
   "cell_type": "code",
   "execution_count": 7,
   "id": "07170558",
   "metadata": {},
   "outputs": [],
   "source": [
    "def evaluate_distilled_bi_encoder(model_path):\n",
    "    # Pre-Trained Tokenizer\n",
    "    tokenizer=AutoTokenizer.from_pretrained(\"princeton-nlp/unsup-simcse-roberta-base\")\n",
    "    # Load Trained Model: Bi-Encoder\n",
    "    model=torch.load(model_path).to(device)\n",
    "    model.eval()\n",
    "    \n",
    "    # STS Benchmark Test Set\n",
    "    with open(\"../dataset/stsbenchmark/sts-test.csv\", \"r\") as f:\n",
    "        stsb_test=f.read()\n",
    "        f.close()\n",
    "\n",
    "    preds=[]\n",
    "    labels=[]\n",
    "    for data in stsb_test.split(\"\\n\")[:-1]:\n",
    "        label, sent0, sent1=data.split(\"\\t\")[4:7]\n",
    "        labels.append(float(label))\n",
    "\n",
    "        # Encode Sentence\n",
    "        enc0=tokenizer.encode(sent0)\n",
    "        enc1=tokenizer.encode(sent1)\n",
    "\n",
    "        # Forward\n",
    "        pred=model(torch.tensor([enc0]).to(device), torch.tensor([enc1]).to(device))\n",
    "\n",
    "        preds.append(pred[0].item())\n",
    "        \n",
    "    print(np.corrcoef(preds, labels))\n",
    "    print(stats.spearmanr(preds, labels))"
   ]
  },
  {
   "cell_type": "code",
   "execution_count": 8,
   "id": "f3013540",
   "metadata": {},
   "outputs": [
    {
     "name": "stdout",
     "output_type": "stream",
     "text": [
      "5749 data\n"
     ]
    },
    {
     "name": "stderr",
     "output_type": "stream",
     "text": [
      "/opt/conda/lib/python3.8/site-packages/transformers/optimization.py:306: FutureWarning: This implementation of AdamW is deprecated and will be removed in a future version. Use the PyTorch implementation torch.optim.AdamW instead, or set `no_deprecation_warning=True` to disable this warning\n",
      "  warnings.warn(\n"
     ]
    }
   ],
   "source": [
    "# Distillation\n",
    "train_bi_encoder_with_pseudo_labels(pseudo_label_path=\"../dataset/cross2bi-sts-train.csv\", loss_func=\"MSE\")"
   ]
  },
  {
   "cell_type": "code",
   "execution_count": 12,
   "id": "9b9bb112",
   "metadata": {},
   "outputs": [
    {
     "name": "stdout",
     "output_type": "stream",
     "text": [
      "[[1.         0.81442487]\n",
      " [0.81442487 1.        ]]\n",
      "SpearmanrResult(correlation=0.8078585560432042, pvalue=1.8018e-318)\n"
     ]
    }
   ],
   "source": [
    "# Evaluate\n",
    "evaluate_distilled_bi_encoder(model_path=\"../model/Bi-Encoder-Distilled_batch16_lr1e-07_epoch3of5\")"
   ]
  },
  {
   "cell_type": "code",
   "execution_count": null,
   "id": "068135fa",
   "metadata": {},
   "outputs": [],
   "source": []
  }
 ],
 "metadata": {
  "kernelspec": {
   "display_name": "Python 3 (ipykernel)",
   "language": "python",
   "name": "python3"
  },
  "language_info": {
   "codemirror_mode": {
    "name": "ipython",
    "version": 3
   },
   "file_extension": ".py",
   "mimetype": "text/x-python",
   "name": "python",
   "nbconvert_exporter": "python",
   "pygments_lexer": "ipython3",
   "version": "3.8.12"
  }
 },
 "nbformat": 4,
 "nbformat_minor": 5
}
