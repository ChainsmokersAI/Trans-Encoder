{
 "cells": [
  {
   "cell_type": "code",
   "execution_count": 1,
   "id": "04274714",
   "metadata": {},
   "outputs": [],
   "source": [
    "import sys\n",
    "module_path=\"..\"\n",
    "sys.path.append(module_path)"
   ]
  },
  {
   "cell_type": "code",
   "execution_count": 2,
   "id": "035de68f",
   "metadata": {},
   "outputs": [],
   "source": [
    "import torch\n",
    "from transformers import AutoTokenizer, AutoModel\n",
    "\n",
    "from distillation import distill"
   ]
  },
  {
   "cell_type": "code",
   "execution_count": 3,
   "id": "38ea7264",
   "metadata": {
    "scrolled": false
   },
   "outputs": [
    {
     "name": "stderr",
     "output_type": "stream",
     "text": [
      "Some weights of the model checkpoint at roberta-base were not used when initializing RobertaModel: ['lm_head.bias', 'lm_head.layer_norm.weight', 'lm_head.dense.bias', 'lm_head.dense.weight', 'lm_head.layer_norm.bias', 'lm_head.decoder.weight']\n",
      "- This IS expected if you are initializing RobertaModel from the checkpoint of a model trained on another task or with another architecture (e.g. initializing a BertForSequenceClassification model from a BertForPreTraining model).\n",
      "- This IS NOT expected if you are initializing RobertaModel from the checkpoint of a model that you expect to be exactly identical (initializing a BertForSequenceClassification model from a BertForSequenceClassification model).\n"
     ]
    },
    {
     "name": "stdout",
     "output_type": "stream",
     "text": [
      "0th Bi-Encoder\n",
      "-----\n",
      "[[1.         0.81180199]\n",
      " [0.81180199 1.        ]]\n",
      "SpearmanrResult(correlation=0.8009763763165447, pvalue=4.38233081262766e-309)\n",
      "=====\n",
      "0th Cross-Encoder\n",
      "-----\n",
      "[[1.         0.02965192]\n",
      " [0.02965192 1.        ]]\n",
      "SpearmanrResult(correlation=0.02057585457289619, pvalue=0.4451831421844925)\n",
      "\n",
      "Pseudo-Labeling..\n",
      "Done!\n"
     ]
    }
   ],
   "source": [
    "distill(\n",
    "    direction=\"bi2cross\",\n",
    "    n_loop=1,\n",
    "    path_dataset=\"\",\n",
    "    path_bi_model=\"princeton-nlp/unsup-simcse-roberta-base\",\n",
    "    device_name=\"cuda:0\"\n",
    ")"
   ]
  },
  {
   "cell_type": "code",
   "execution_count": null,
   "id": "9b071a6e",
   "metadata": {},
   "outputs": [],
   "source": []
  }
 ],
 "metadata": {
  "kernelspec": {
   "display_name": "Python 3 (ipykernel)",
   "language": "python",
   "name": "python3"
  },
  "language_info": {
   "codemirror_mode": {
    "name": "ipython",
    "version": 3
   },
   "file_extension": ".py",
   "mimetype": "text/x-python",
   "name": "python",
   "nbconvert_exporter": "python",
   "pygments_lexer": "ipython3",
   "version": "3.8.12"
  }
 },
 "nbformat": 4,
 "nbformat_minor": 5
}
